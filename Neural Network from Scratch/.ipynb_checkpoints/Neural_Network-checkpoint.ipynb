{
 "cells": [
  {
   "cell_type": "code",
   "execution_count": 1,
   "id": "5098a309",
   "metadata": {},
   "outputs": [],
   "source": [
    "import math\n",
    "import random\n",
    "import matplotlib.pyplot as plt\n",
    "import pandas as pd"
   ]
  },
  {
   "cell_type": "code",
   "execution_count": 2,
   "id": "0668a41d",
   "metadata": {},
   "outputs": [
    {
     "name": "stdout",
     "output_type": "stream",
     "text": [
      "      x_distance  y_distance  output_veocity_v1  output_velocity_v2\n",
      "0       0.632025    0.661307           0.181279            0.500526\n",
      "1       0.631983    0.662750           0.172102            0.497653\n",
      "2       0.631965    0.664354           0.162980            0.495547\n",
      "3       0.631963    0.666115           0.153937            0.494205\n",
      "4       0.631972    0.668034           0.144995            0.502447\n",
      "...          ...         ...                ...                 ...\n",
      "4345    0.571996    0.461206           0.292006            0.501853\n",
      "4346    0.571944    0.460723           0.283331            0.502778\n",
      "4347    0.571885    0.460392           0.292554            0.498366\n",
      "4348    0.571861    0.459900           0.301776            0.493954\n",
      "4349    0.571872    0.459248           0.310999            0.498366\n",
      "\n",
      "[4350 rows x 4 columns]\n",
      "[[0.63202492 0.66130697]\n",
      " [0.63198345 0.66275043]\n",
      " [0.63196498 0.66435351]\n",
      " ...\n",
      " [0.57188478 0.46039194]\n",
      " [0.5718606  0.45990003]\n",
      " [0.57187173 0.45924771]]\n",
      "[[0.18127934 0.50052588]\n",
      " [0.17210169 0.4976527 ]\n",
      " [0.16298016 0.49554659]\n",
      " ...\n",
      " [0.29255387 0.49836551]\n",
      " [0.30177645 0.49395351]\n",
      " [0.31099903 0.49836551]]\n"
     ]
    }
   ],
   "source": [
    "training_data=pd.read_csv(r\"M:\\Neural Networks and Deep Learning\\Lab3\\ce889assignment\\Training_data.csv\",names=[\"x_distance\",\"y_distance\",\"output_veocity_v1\",\"output_velocity_v2\"])\n",
    "data=training_data.values[:,:2]\n",
    "output=training_data.values[:,2:]\n",
    "print(training_data)\n",
    "print(data)\n",
    "print(output)"
   ]
  },
  {
   "cell_type": "code",
   "execution_count": 3,
   "id": "ffc38492",
   "metadata": {},
   "outputs": [
    {
     "name": "stdout",
     "output_type": "stream",
     "text": [
      "      x_distance  y_distance  output_veocity_v1  output_velocity_v2\n",
      "0       0.571848    0.458435           0.320222            0.493954\n",
      "1       0.571859    0.457462           0.311547            0.503702\n",
      "2       0.571792    0.456640           0.303039            0.505371\n",
      "3       0.571712    0.455965           0.294719            0.507776\n",
      "4       0.571612    0.455436           0.286609            0.510909\n",
      "...          ...         ...                ...                 ...\n",
      "1858    0.527755    0.054929           1.000000            0.494467\n",
      "1859    0.527762    0.042133           1.000000            0.494467\n",
      "1860    0.527769    0.029336           1.000000            0.494467\n",
      "1861    0.527776    0.016540           1.000000            0.494467\n",
      "1862    0.527783    0.003744           1.000000            0.494467\n",
      "\n",
      "[1863 rows x 4 columns]\n",
      "[[0.57184755 0.45843499]\n",
      " [0.57185867 0.45746185]\n",
      " [0.5717918  0.4566396 ]\n",
      " ...\n",
      " [0.52776924 0.02933628]\n",
      " [0.52777625 0.0165399 ]\n",
      " [0.52778327 0.00374353]]\n",
      "[[0.32022161 0.49395351]\n",
      " [0.31154693 0.50370232]\n",
      " [0.30303888 0.50537088]\n",
      " ...\n",
      " [1.         0.49446736]\n",
      " [1.         0.49446736]\n",
      " [1.         0.49446736]]\n"
     ]
    }
   ],
   "source": [
    "testing_data=pd.read_csv(r\"M:\\Neural Networks and Deep Learning\\Lab3\\ce889assignment\\Testing_data.csv\",names=[\"x_distance\",\"y_distance\",\"output_veocity_v1\",\"output_velocity_v2\"])\n",
    "\n",
    "validation_data=testing_data.values[:,:2]\n",
    "validation_output=testing_data.values[:,2:]\n",
    "\n",
    "print(testing_data)\n",
    "print(validation_data)\n",
    "print(validation_output)"
   ]
  },
  {
   "cell_type": "code",
   "execution_count": 4,
   "id": "39b76260",
   "metadata": {},
   "outputs": [],
   "source": [
    "predicted_output=[]\n",
    "lam=0.5\n",
    "learning_rate=0.4\n",
    "momentum=0.3"
   ]
  },
  {
   "cell_type": "code",
   "execution_count": 5,
   "id": "0b42473b",
   "metadata": {},
   "outputs": [],
   "source": [
    "def weight(size,index):\n",
    "    weights = []\n",
    "    for i in range(size):\n",
    "\n",
    "        rand=random.uniform(-1, 1)\n",
    "        weights.append(rand)\n",
    "        \n",
    "    return weights"
   ]
  },
  {
   "cell_type": "code",
   "execution_count": 6,
   "id": "5a9eeab7",
   "metadata": {},
   "outputs": [],
   "source": [
    "class Neuron():\n",
    "    \n",
    "    def __init__(self,av,num_weights,index_neuron):\n",
    "        self.av=av\n",
    "        self.num_weights=num_weights\n",
    "        self.index_neuron=index_neuron\n",
    "        self.grad_value=0.0    #initilising gradient value\n",
    "        self.weights=[]\n",
    "        self.weights=weight(self.num_weights,self.index_neuron)#initialising weights with random numbers between -1 and 1\n",
    "        \n",
    "        self.delta_weights=[]\n",
    "        for i in range(self.num_weights):\n",
    "              self.delta_weights.append(0.0) #initilising delta weights to a list with 0.0\n",
    "                \n",
    "    def multweights(self,prev_layer):\n",
    "        result=prev_layer[-1].weights[self.index_neuron]\n",
    "\n",
    "        for i in range(len(prev_layer)-1):\n",
    "            result+=prev_layer[i].av*prev_layer[i].weights[self.index_neuron]\n",
    "        activation= 1/(1+math.exp(-1*lam*(result)))\n",
    "        return activation"
   ]
  },
  {
   "cell_type": "code",
   "execution_count": 7,
   "id": "3034e4f4",
   "metadata": {},
   "outputs": [],
   "source": [
    "input_layer=[Neuron(0,4,0),Neuron(0,4,1),Neuron(1,4,2)]\n",
    "hidden_layer=[Neuron(0,2,0),Neuron(0,2,1),Neuron(0,2,2),Neuron(0,2,3),Neuron(1,2,4)]\n",
    "output_layer=[Neuron(0,0,0),Neuron(0,0,1)]"
   ]
  },
  {
   "cell_type": "code",
   "execution_count": 8,
   "id": "774623d1",
   "metadata": {},
   "outputs": [],
   "source": [
    "def feedforward_process(data):\n",
    "    \n",
    "    predicted_output=[]\n",
    "    \n",
    "    for i in range(len(input_layer)-1):\n",
    "        input_layer[i].av=data[i]\n",
    "        \n",
    "    for i in range(len(hidden_layer)-1):\n",
    "        hidden_layer[i].av=hidden_layer[i].multweights(input_layer)\n",
    "        \n",
    "    for i in range(len(output_layer)):\n",
    "        output_layer[i].av=output_layer[i].multweights(hidden_layer)\n",
    "        #predicted_output.append(output_layer.av)\n",
    "        \n",
    "    \n",
    "        \n",
    "        \n",
    "        "
   ]
  },
  {
   "cell_type": "code",
   "execution_count": 9,
   "id": "7ad0b55b",
   "metadata": {},
   "outputs": [],
   "source": [
    "def back_propagation(output):\n",
    "    error=[]\n",
    "    \n",
    "    \n",
    "    \n",
    "    for i in range(len(output_layer)):\n",
    "        error.append((output[i]-output_layer[i].av))\n",
    "    \n",
    "    for i in range(len(output_layer)):   \n",
    "        output_layer[i].grad_val=lam*output_layer[i].av*(1-output_layer[i].av)*error[i]\n",
    "        \n",
    "    for i in range(len(hidden_layer)):\n",
    "        weights=0\n",
    "        for j in range(hidden_layer[i].num_weights):\n",
    "            weights+=output_layer[j].grad_val*hidden_layer[i].weights[j]\n",
    "        hidden_layer[i].grad_val=lam*hidden_layer[i].av*(1-hidden_layer[i].av)*weights\n",
    "        \n",
    "    for i in range(len(hidden_layer)):\n",
    "        for j in range(hidden_layer[i].num_weights):\n",
    "            hidden_layer[i].delta_weights[j]=(learning_rate*output_layer[j].grad_val*hidden_layer[i].av)+(momentum*hidden_layer[i].delta_weights[j])\n",
    "            \n",
    "    for i in range(len(input_layer)):\n",
    "        for j in range(input_layer[i].num_weights):\n",
    "            input_layer[i].delta_weights[j]=(learning_rate*hidden_layer[j].grad_val*input_layer[i].av)+(momentum*input_layer[i].delta_weights[j])\n",
    "            \n",
    "    for i in range(len(hidden_layer)):\n",
    "        for j in range(hidden_layer[i].num_weights):\n",
    "            hidden_layer[i].weights[j]+=hidden_layer[i].delta_weights[j]\n",
    "            \n",
    "    for i in range(len(input_layer)):\n",
    "        for j in range(input_layer[i].num_weights):\n",
    "            input_layer[i].weights[j]+=input_layer[i].delta_weights[j]\n",
    "          \n",
    "    for i in range(len(error)):\n",
    "        error[i]=error[i]**2\n",
    "    \n",
    "    ##print(\"squared error in back propagation =\",error)    \n",
    "    mean_squared_error=sum(error)/len(error)\n",
    "    \n",
    "    return mean_squared_error\n",
    "        \n",
    "        "
   ]
  },
  {
   "cell_type": "code",
   "execution_count": 10,
   "id": "f14e4cec",
   "metadata": {},
   "outputs": [],
   "source": [
    "epoch=0\n",
    "training_error_list=[]\n",
    "testing_error_list=[]\n",
    "weights_list=[]"
   ]
  },
  {
   "cell_type": "code",
   "execution_count": null,
   "id": "b51ea4a7",
   "metadata": {},
   "outputs": [
    {
     "name": "stdout",
     "output_type": "stream",
     "text": [
      "epoch = 0\n",
      "root mean sq error of training data = 0.0912526017156209\n",
      "root mean sq error of testing data = 0.1442640886750886\n",
      "epoch = 1\n",
      "root mean sq error of training data = 0.08915236390834058\n",
      "root mean sq error of testing data = 0.1440898414721259\n",
      "epoch = 2\n",
      "root mean sq error of training data = 0.08945337021745882\n",
      "root mean sq error of testing data = 0.1439394390202774\n",
      "epoch = 3\n",
      "root mean sq error of training data = 0.0897720713037382\n",
      "root mean sq error of testing data = 0.14380382914649037\n",
      "epoch = 4\n",
      "root mean sq error of training data = 0.0901015084421116\n",
      "root mean sq error of testing data = 0.14367464153924983\n",
      "epoch = 5\n",
      "root mean sq error of training data = 0.090435060477629\n",
      "root mean sq error of testing data = 0.14354362485518946\n",
      "epoch = 6\n",
      "root mean sq error of training data = 0.09076606390142275\n",
      "root mean sq error of testing data = 0.1434020832855526\n",
      "epoch = 7\n",
      "root mean sq error of training data = 0.09108741986108501\n",
      "root mean sq error of testing data = 0.1432402570029332\n",
      "epoch = 8\n",
      "root mean sq error of training data = 0.09139113460520643\n",
      "root mean sq error of testing data = 0.14304659445475076\n",
      "epoch = 9\n",
      "root mean sq error of training data = 0.091667739677465\n",
      "root mean sq error of testing data = 0.1428068754413554\n",
      "epoch = 10\n"
     ]
    }
   ],
   "source": [
    "for i in range(1000):\n",
    "    mean_sq_error=[]\n",
    "    mean_sq_error_validation=[]\n",
    "    error=[]\n",
    "    \n",
    "    print(\"epoch =\",epoch)\n",
    "    epoch=epoch+1\n",
    "    \n",
    "    for i in range(len(data)):\n",
    "        feedforward_process(data[i])\n",
    "        mean_sq_error.append(back_propagation(output[i]))\n",
    "                       \n",
    "    #print(\"mean sq error list of training =\",len(mean_sq_error))        \n",
    "    root_mean_sq=math.sqrt(sum(mean_sq_error)/len(mean_sq_error))\n",
    "    training_error_list.append(root_mean_sq)\n",
    "    print(\"root mean sq error of training data =\",root_mean_sq)\n",
    "    \n",
    "    for i in range(len(validation_data)):\n",
    "        \n",
    "        feedforward_process(validation_data[i])\n",
    "        for j in range(len(output_layer)):\n",
    "            e=(validation_output[i][j]- output_layer[j].av)**2\n",
    "            error.append(e)\n",
    "      \n",
    "        mean_sq_error_validation.append(sum(error)/len(error))\n",
    "    #print(\"mean sq error list of validation data =\",len(mean_sq_error_validation))    \n",
    "    root_mean_sq_validation=math.sqrt(sum(mean_sq_error_validation)/len(mean_sq_error_validation))\n",
    "    testing_error_list.append(root_mean_sq_validation)\n",
    "    \n",
    "    \n",
    "    \n",
    "    \n",
    "    input_layer_weights=[]\n",
    "    hidden_layer_weights=[]\n",
    "\n",
    "    for i in range(len(input_layer)):\n",
    "        for j in range(input_layer[i].num_weights):\n",
    "\n",
    "              input_layer_weights.append(input_layer[i].weights[j])\n",
    "              \n",
    "\n",
    "    \n",
    "    for i in range(len(hidden_layer)):\n",
    "        for j in range(hidden_layer[i].num_weights):\n",
    "            hidden_layer_weights.append(hidden_layer[i].weights[j])\n",
    "        \n",
    "    \n",
    "    ls=[input_layer_weights,hidden_layer_weights]\n",
    "            \n",
    "    weights_list.append(ls)\n",
    "    print(\"root mean sq error of testing data =\",root_mean_sq_validation)\n"
   ]
  },
  {
   "cell_type": "code",
   "execution_count": 121,
   "id": "507dfebd",
   "metadata": {},
   "outputs": [
    {
     "data": {
      "image/png": "[encoded data removed]",
      "text/plain": [
       "<Figure size 432x288 with 1 Axes>"
      ]
     },
     "metadata": {
      "needs_background": "light"
     },
     "output_type": "display_data"
    }
   ],
   "source": [
    "ep=[]\n",
    "\n",
    "for i in range(epoch):\n",
    "    ep.append(i)\n",
    "    \n",
    "plt.plot(ep,training_error_list,label=\"Training Error\")\n",
    "plt.plot(ep,testing_error_list,label=\"Validation Error\")\n",
    "plt.legend()\n",
    "plt.grid()\n",
    "plt.show()"
   ]
  },
  {
   "cell_type": "code",
   "execution_count": 96,
   "id": "a6b90f36",
   "metadata": {},
   "outputs": [
    {
     "name": "stdout",
     "output_type": "stream",
     "text": [
      "input layer 0 weights 0 = 1.8247270059583125\n",
      "input layer 0 weights 1 = -18.28109410760901\n",
      "input layer 0 weights 2 = 18.236518174666326\n",
      "input layer 0 weights 3 = -7.3892401370032665\n",
      "input layer 1 weights 0 = 42.76420859758733\n",
      "input layer 1 weights 1 = 11.623602515572781\n",
      "input layer 1 weights 2 = -0.31910723158122495\n",
      "input layer 1 weights 3 = 9.640834645754303\n",
      "input layer 2 weights 0 = -10.159337310826496\n",
      "input layer 2 weights 1 = -7.938453177172428\n",
      "input layer 2 weights 2 = 0.9429329245202597\n",
      "input layer 2 weights 3 = -0.833659899883989\n",
      "[1.8247270059583125, -18.28109410760901, 18.236518174666326, -7.3892401370032665, 42.76420859758733, 11.623602515572781, -0.31910723158122495, 9.640834645754303, -10.159337310826496, -7.938453177172428, 0.9429329245202597, -0.833659899883989]\n",
      "hidden layer 0 weights 0 = -29.76861392744742\n",
      "hidden layer 0 weights 1 = 3.4757155027444857\n",
      "hidden layer 1 weights 0 = -6.467471749508032\n",
      "hidden layer 1 weights 1 = -14.044746786615288\n",
      "hidden layer 2 weights 0 = 11.785488213874105\n",
      "hidden layer 2 weights 1 = 2.4715603175245464\n",
      "hidden layer 3 weights 0 = 11.692106441425523\n",
      "hidden layer 3 weights 1 = -0.4344101294629498\n",
      "hidden layer 4 weights 0 = 10.248564791522302\n",
      "hidden layer 4 weights 1 = -1.9381162043251143\n",
      "[-29.76861392744742, 3.4757155027444857, -6.467471749508032, -14.044746786615288, 11.785488213874105, 2.4715603175245464, 11.692106441425523, -0.4344101294629498, 10.248564791522302, -1.9381162043251143, 0.0, 0.0]\n"
     ]
    }
   ],
   "source": [
    "input_layer_weights=[]\n",
    "hidden_layer_weights=[]\n",
    "\n",
    "for i in range(len(input_layer)):\n",
    "    for j in range(input_layer[i].num_weights):\n",
    "        \n",
    "          input_layer_weights.append(input_layer[i].weights[j])\n",
    "          print(\"input layer\",i,\"weights\",j,\"=\",input_layer[i].weights[j])\n",
    "\n",
    "print(input_layer_weights)\n",
    "for i in range(len(hidden_layer)):\n",
    "    for j in range(hidden_layer[i].num_weights):\n",
    "        \n",
    "        hidden_layer_weights.append(hidden_layer[i].weights[j])\n",
    "        print(\"hidden layer\",i,\"weights\",j,\"=\",hidden_layer[i].weights[j])\n",
    "hidden_layer_weights.append(0.0)\n",
    "hidden_layer_weights.append(0.0)\n",
    "print(hidden_layer_weights)"
   ]
  },
  {
   "cell_type": "code",
   "execution_count": 97,
   "id": "948b7ab4",
   "metadata": {},
   "outputs": [],
   "source": [
    "df = pd.DataFrame({'input_layer_weights': input_layer_weights,\n",
    "                   'hidden_layer_weights': hidden_layer_weights})\n",
    "df.to_csv(path_or_buf=\"weights\",index=False)"
   ]
  },
  {
   "cell_type": "code",
   "execution_count": null,
   "id": "40e3d0f6",
   "metadata": {},
   "outputs": [],
   "source": []
  },
  {
   "cell_type": "code",
   "execution_count": null,
   "id": "9cd1d6b6",
   "metadata": {},
   "outputs": [],
   "source": []
  }
 ],
 "metadata": {
  "kernelspec": {
   "display_name": "Python 3",
   "language": "python",
   "name": "python3"
  },
  "language_info": {
   "codemirror_mode": {
    "name": "ipython",
    "version": 3
   },
   "file_extension": ".py",
   "mimetype": "text/x-python",
   "name": "python",
   "nbconvert_exporter": "python",
   "pygments_lexer": "ipython3",
   "version": "3.8.5"
  }
 },
 "nbformat": 4,
 "nbformat_minor": 5
}
